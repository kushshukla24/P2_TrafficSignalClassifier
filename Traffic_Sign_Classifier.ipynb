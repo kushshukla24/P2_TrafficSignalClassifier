{
 "cells": [
  {
   "cell_type": "markdown",
   "metadata": {},
   "source": [
    "# Self-Driving Car Engineer Nanodegree\n",
    "\n",
    "## Deep Learning\n",
    "\n",
    "## Project: Build a Traffic Sign Recognition Classifier\n",
    "\n",
    "In this notebook, a template is provided for you to implement your functionality in stages, which is required to successfully complete this project. If additional code is required that cannot be included in the notebook, be sure that the Python code is successfully imported and included in your submission if necessary. \n",
    "\n",
    "> **Note**: Once you have completed all of the code implementations, you need to finalize your work by exporting the iPython Notebook as an HTML document. Before exporting the notebook to html, all of the code cells need to have been run so that reviewers can see the final implementation and output. You can then export the notebook by using the menu above and navigating to  \\n\",\n",
    "    \"**File -> Download as -> HTML (.html)**. Include the finished document along with this notebook as your submission. \n",
    "\n",
    "In addition to implementing code, there is a writeup to complete. The writeup should be completed in a separate file, which can be either a markdown file or a pdf document. There is a [write up template](https://github.com/udacity/CarND-Traffic-Sign-Classifier-Project/blob/master/writeup_template.md) that can be used to guide the writing process. Completing the code template and writeup template will cover all of the [rubric points](https://review.udacity.com/#!/rubrics/481/view) for this project.\n",
    "\n",
    "The [rubric](https://review.udacity.com/#!/rubrics/481/view) contains \"Stand Out Suggestions\" for enhancing the project beyond the minimum requirements. The stand out suggestions are optional. If you decide to pursue the \"stand out suggestions\", you can include the code in this Ipython notebook and also discuss the results in the writeup file.\n",
    "\n",
    "\n",
    ">**Note:** Code and Markdown cells can be executed using the **Shift + Enter** keyboard shortcut. In addition, Markdown cells can be edited by typically double-clicking the cell to enter edit mode."
   ]
  },
  {
   "cell_type": "markdown",
   "metadata": {},
   "source": [
    "---\n",
    "## Step 0: Load The Data"
   ]
  },
  {
   "cell_type": "code",
   "execution_count": 42,
   "metadata": {},
   "outputs": [],
   "source": [
    "# Load pickled data\n",
    "import pickle\n",
    "\n",
    "# TODO: Fill this in based on where you saved the training and testing data\n",
    "\n",
    "training_file = \"./traffic-signs-data/train.p\"\n",
    "validation_file = \"./traffic-signs-data/valid.p\"\n",
    "testing_file = \"./traffic-signs-data/test.p\"\n",
    "\n",
    "with open(training_file, mode='rb') as f:\n",
    "    train = pickle.load(f)\n",
    "with open(validation_file, mode='rb') as f:\n",
    "    valid = pickle.load(f)\n",
    "with open(testing_file, mode='rb') as f:\n",
    "    test = pickle.load(f)\n",
    "    \n",
    "X_train, y_train = train['features'], train['labels']\n",
    "X_valid, y_valid = valid['features'], valid['labels']\n",
    "X_test, y_test = test['features'], test['labels']"
   ]
  },
  {
   "cell_type": "markdown",
   "metadata": {},
   "source": [
    "---\n",
    "\n",
    "## Step 1: Dataset Summary & Exploration\n",
    "\n",
    "The pickled data is a dictionary with 4 key/value pairs:\n",
    "\n",
    "- `'features'` is a 4D array containing raw pixel data of the traffic sign images, (num examples, width, height, channels).\n",
    "- `'labels'` is a 1D array containing the label/class id of the traffic sign. The file `signnames.csv` contains id -> name mappings for each id.\n",
    "- `'sizes'` is a list containing tuples, (width, height) representing the original width and height the image.\n",
    "- `'coords'` is a list containing tuples, (x1, y1, x2, y2) representing coordinates of a bounding box around the sign in the image. **THESE COORDINATES ASSUME THE ORIGINAL IMAGE. THE PICKLED DATA CONTAINS RESIZED VERSIONS (32 by 32) OF THESE IMAGES**\n",
    "\n",
    "Complete the basic data summary below. Use python, numpy and/or pandas methods to calculate the data summary rather than hard coding the results. For example, the [pandas shape method](http://pandas.pydata.org/pandas-docs/stable/generated/pandas.DataFrame.shape.html) might be useful for calculating some of the summary results. "
   ]
  },
  {
   "cell_type": "markdown",
   "metadata": {},
   "source": [
    "### Provide a Basic Summary of the Data Set Using Python, Numpy and/or Pandas"
   ]
  },
  {
   "cell_type": "code",
   "execution_count": 43,
   "metadata": {},
   "outputs": [
    {
     "name": "stdout",
     "output_type": "stream",
     "text": [
      "Number of training examples = 34799\n",
      "Number of validation examples = 4410\n",
      "Number of testing examples = 12630\n",
      "Image data shape = (32, 32, 3)\n",
      "Number of classes = 43\n"
     ]
    }
   ],
   "source": [
    "### Replace each question mark with the appropriate value. \n",
    "### Use python, pandas or numpy methods rather than hard coding the results\n",
    "\n",
    "# TODO: Number of training examples\n",
    "n_train = len(y_train)\n",
    "\n",
    "# TODO: Number of validation examples\n",
    "n_validation = len(y_valid)\n",
    "\n",
    "# TODO: Number of testing examples.\n",
    "n_test = len(y_test)\n",
    "\n",
    "# TODO: What's the shape of an traffic sign image?\n",
    "image_shape = X_train[0].shape\n",
    "\n",
    "# TODO: How many unique classes/labels there are in the dataset.\n",
    "n_classes = len(set(y_train))\n",
    "\n",
    "print(\"Number of training examples =\", n_train)\n",
    "print(\"Number of validation examples =\", n_validation)\n",
    "print(\"Number of testing examples =\", n_test)\n",
    "print(\"Image data shape =\", image_shape)\n",
    "print(\"Number of classes =\", n_classes)"
   ]
  },
  {
   "cell_type": "markdown",
   "metadata": {},
   "source": [
    "### Include an exploratory visualization of the dataset"
   ]
  },
  {
   "cell_type": "markdown",
   "metadata": {},
   "source": [
    "Visualize the German Traffic Signs Dataset using the pickled file(s). This is open ended, suggestions include: plotting traffic sign images, plotting the count of each sign, etc. \n",
    "\n",
    "The [Matplotlib](http://matplotlib.org/) [examples](http://matplotlib.org/examples/index.html) and [gallery](http://matplotlib.org/gallery.html) pages are a great resource for doing visualizations in Python.\n",
    "\n",
    "**NOTE:** It's recommended you start with something simple first. If you wish to do more, come back to it after you've completed the rest of the sections. It can be interesting to look at the distribution of classes in the training, validation and test set. Is the distribution the same? Are there more examples of some classes than others?"
   ]
  },
  {
   "cell_type": "code",
   "execution_count": 32,
   "metadata": {},
   "outputs": [
    {
     "name": "stdout",
     "output_type": "stream",
     "text": [
      "ClassID #23 specifies: Slippery road\n",
      "Total Number of Different Traffic Siginals: 43\n"
     ]
    }
   ],
   "source": [
    "import pandas as pd\n",
    "df = pd.read_csv(\"./signnames.csv\", index_col=\"ClassId\")\n",
    "\n",
    "def classIdToSignDefinition(classId):\n",
    "    return df.loc[classId]['SignName'] \n",
    "\n",
    "print(\"ClassID #23 specifies: \" + classIdToSignDefinition(23))\n",
    "print(\"Total Number of Different Traffic Siginals: \" + str(len(df)))"
   ]
  },
  {
   "cell_type": "code",
   "execution_count": 45,
   "metadata": {},
   "outputs": [
    {
     "name": "stdout",
     "output_type": "stream",
     "text": [
      "Signal Means: Speed limit (50km/h)\n"
     ]
    },
    {
     "data": {
      "image/png": "[encoded data removed]",
      "text/plain": [
       "<matplotlib.figure.Figure at 0x913a0f0>"
      ]
     },
     "metadata": {},
     "output_type": "display_data"
    }
   ],
   "source": [
    "### Data exploration visualization code goes here.\n",
    "### Feel free to use as many code cells as needed.\n",
    "import random\n",
    "import numpy as np\n",
    "import matplotlib.pyplot as plt\n",
    "\n",
    "# Visualizations will be shown in the notebook.\n",
    "%matplotlib inline\n",
    "\n",
    "index = random.randint(0, len(X_train))\n",
    "image = X_train[index]\n",
    "\n",
    "plt.imshow(image)\n",
    "print(\"Signal Means: \" + classIdToSignDefinition(y_train[index]))"
   ]
  },
  {
   "cell_type": "markdown",
   "metadata": {},
   "source": [
    "----\n",
    "\n",
    "## Step 2: Design and Test a Model Architecture\n",
    "\n",
    "Design and implement a deep learning model that learns to recognize traffic signs. Train and test your model on the [German Traffic Sign Dataset](http://benchmark.ini.rub.de/?section=gtsrb&subsection=dataset).\n",
    "\n",
    "The LeNet-5 implementation shown in the [classroom](https://classroom.udacity.com/nanodegrees/nd013/parts/fbf77062-5703-404e-b60c-95b78b2f3f9e/modules/6df7ae49-c61c-4bb2-a23e-6527e69209ec/lessons/601ae704-1035-4287-8b11-e2c2716217ad/concepts/d4aca031-508f-4e0b-b493-e7b706120f81) at the end of the CNN lesson is a solid starting point. You'll have to change the number of classes and possibly the preprocessing, but aside from that it's plug and play! \n",
    "\n",
    "With the LeNet-5 solution from the lecture, you should expect a validation set accuracy of about 0.89. To meet specifications, the validation set accuracy will need to be at least 0.93. It is possible to get an even higher accuracy, but 0.93 is the minimum for a successful project submission. \n",
    "\n",
    "There are various aspects to consider when thinking about this problem:\n",
    "\n",
    "- Neural network architecture (is the network over or underfitting?)\n",
    "- Play around preprocessing techniques (normalization, rgb to grayscale, etc)\n",
    "- Number of examples per label (some have more than others).\n",
    "- Generate fake data.\n",
    "\n",
    "Here is an example of a [published baseline model on this problem](http://yann.lecun.com/exdb/publis/pdf/sermanet-ijcnn-11.pdf). It's not required to be familiar with the approach used in the paper but, it's good practice to try to read papers like these."
   ]
  },
  {
   "cell_type": "markdown",
   "metadata": {},
   "source": [
    "### Pre-process the Data Set (normalization, grayscale, etc.)"
   ]
  },
  {
   "cell_type": "markdown",
   "metadata": {},
   "source": [
    "Minimally, the image data should be normalized so that the data has mean zero and equal variance. For image data, `(pixel - 128)/ 128` is a quick way to approximately normalize the data and can be used in this project. \n",
    "\n",
    "Other pre-processing steps are optional. You can try different techniques to see if it improves performance. \n",
    "\n",
    "Use the code cell (or multiple code cells, if necessary) to implement the first step of your project."
   ]
  },
  {
   "cell_type": "code",
   "execution_count": 52,
   "metadata": {},
   "outputs": [
    {
     "name": "stdout",
     "output_type": "stream",
     "text": [
      "Image Shape: (32, 32, 3)\n",
      "(32, 32, 1)\n",
      "Normalized Image Shape: (32, 32, 1)\n"
     ]
    }
   ],
   "source": [
    "### Preprocess the data here. It is required to normalize the data. Other preprocessing steps could include \n",
    "### converting to grayscale, etc.\n",
    "### Feel free to use as many code cells as needed.\n",
    "import cv2\n",
    "\n",
    "def convertToGrayScale(image):\n",
    "    #return cv2.cvtColor(image, cv2.COLOR_RGB2GRAY)\n",
    "    return np.sum(image/3, axis=2, keepdims=True)\n",
    "\n",
    "def normalizeImage(image):\n",
    "    return (convertToGrayScale(image)-128)/128\n",
    "\n",
    "print(\"Image Shape:\", image.shape)\n",
    "gray = normalizeImage(image)\n",
    "print(gray.shape)\n",
    "#plt.imshow(gray, cmap='gray')\n",
    "gray = gray.reshape(32,32,1)\n",
    "print(\"Normalized Image Shape:\", gray.shape)"
   ]
  },
  {
   "cell_type": "code",
   "execution_count": 53,
   "metadata": {},
   "outputs": [
    {
     "name": "stdout",
     "output_type": "stream",
     "text": [
      "(34799, 32, 32, 1)\n",
      "(4410, 32, 32, 1)\n",
      "(12630, 32, 32, 1)\n"
     ]
    }
   ],
   "source": [
    "# X_train, y_train = train['features'], train['labels']\n",
    "# X_valid, y_valid = valid['features'], valid['labels']\n",
    "# X_test, y_test = test['features'], test['labels']\n",
    "X_Normtrain = []\n",
    "X_Normvalid = []\n",
    "X_Normtest = []\n",
    "for index, image in enumerate(X_train):\n",
    "    X_Normtrain.append(normalizeImage(image).reshape(32,32,1))\n",
    "    \n",
    "for index, image in enumerate(X_valid):\n",
    "    X_Normvalid.append(normalizeImage(image).reshape(32,32,1))\n",
    "\n",
    "for index, image in enumerate(X_test):\n",
    "    X_Normtest.append(normalizeImage(image).reshape(32,32,1))\n",
    "\n",
    "X_train = np.asarray(X_Normtrain)\n",
    "X_valid = np.asarray(X_Normvalid)\n",
    "X_test = np.asarray(X_Normtest)\n",
    "\n",
    "print(X_train.shape)\n",
    "print(X_valid.shape)\n",
    "print(X_test.shape)\n",
    "    "
   ]
  },
  {
   "cell_type": "markdown",
   "metadata": {},
   "source": [
    "### Model Architecture"
   ]
  },
  {
   "cell_type": "code",
   "execution_count": 54,
   "metadata": {},
   "outputs": [],
   "source": [
    "### Define your architecture here.\n",
    "### Feel free to use as many code cells as needed.\n",
    "\n",
    "import tensorflow as tf\n",
    "from tensorflow.contrib.layers import flatten\n",
    "\n",
    "# Define the Lenet-5 architecture here\n",
    "def LeNet5(x, keep_prob):\n",
    "    mu = 0\n",
    "    sigma = 0.1\n",
    "    \n",
    "    #Considering the image here will be a grayscale image\n",
    "    # The image is 32*32*1 Gray image\n",
    "    conv1_W = tf.Variable(tf.truncated_normal((5,5,1,6), mean=mu, stddev=sigma))\n",
    "    conv1_b = tf.Variable(tf.zeros(6))\n",
    "    conv1 = tf.nn.conv2d(x, conv1_W, strides=(1,1,1,1), padding='VALID') + conv1_b\n",
    "    \n",
    "    conv1 = tf.nn.relu(conv1)\n",
    "    \n",
    "    conv1 = tf.nn.max_pool(conv1, ksize=(1,2,2,1), strides=(1,2,2,1), padding='VALID')\n",
    "    \n",
    "    \n",
    "    conv2_W = tf.Variable(tf.truncated_normal((5,5,6,16), mean=mu, stddev=sigma))\n",
    "    conv2_b = tf.Variable(tf.zeros(16))\n",
    "    conv2 = tf.nn.conv2d(conv1, conv2_W, strides=(1,1,1,1), padding='VALID') + conv2_b\n",
    "    \n",
    "    conv2 = tf.nn.relu(conv2)\n",
    "    \n",
    "    conv2 = tf.nn.max_pool(conv2, ksize=(1,2,2,1), strides=(1,2,2,1), padding='VALID')\n",
    "    \n",
    "    fc0 = flatten(conv2)\n",
    "    \n",
    "    fc1_W = tf.Variable(tf.truncated_normal((400,120), mean=mu, stddev=sigma))\n",
    "    fc1_b = tf.Variable(tf.zeros(120))\n",
    "    fc1 = tf.matmul(fc0,fc1_W) + fc1_b\n",
    "    \n",
    "    fc1 = tf.nn.relu(fc1)\n",
    "    \n",
    "    fc1 = tf.nn.dropout(fc1, keep_prob)\n",
    "    \n",
    "    fc2_W = tf.Variable(tf.truncated_normal((120,84), mean=mu, stddev=sigma))\n",
    "    fc2_b = tf.Variable(tf.zeros(84))\n",
    "    fc2 = tf.matmul(fc1,fc2_W) + fc2_b\n",
    "    \n",
    "    fc2 = tf.nn.relu(fc2)\n",
    "    \n",
    "    fc2 = tf.nn.dropout(fc2, keep_prob)\n",
    "\n",
    "    #Output layer: 43 Traffic Signals in all\n",
    "    fc3_W = tf.Variable(tf.truncated_normal((84,43), mean=mu, stddev=sigma))\n",
    "    fc3_b = tf.Variable(tf.zeros(43))\n",
    "    logits = tf.matmul(fc2,fc3_W) + fc3_b\n",
    "    \n",
    "    return logits\n",
    "    \n",
    "    "
   ]
  },
  {
   "cell_type": "markdown",
   "metadata": {},
   "source": [
    "### Train, Validate and Test the Model"
   ]
  },
  {
   "cell_type": "markdown",
   "metadata": {},
   "source": [
    "A validation set can be used to assess how well the model is performing. A low accuracy on the training and validation\n",
    "sets imply underfitting. A high accuracy on the training set but low accuracy on the validation set implies overfitting."
   ]
  },
  {
   "cell_type": "code",
   "execution_count": 55,
   "metadata": {},
   "outputs": [],
   "source": [
    "### Train your model here.\n",
    "### Calculate and report the accuracy on the training and validation set.\n",
    "### Once a final model architecture is selected, \n",
    "### the accuracy on the test set should be calculated and reported as well.\n",
    "### Feel free to use as many code cells as needed.\n",
    "x = tf.placeholder(tf.float32, (None,32,32,1))\n",
    "y = tf.placeholder(tf.int32,(None))\n",
    "one_hot_y = tf.one_hot(y,43)\n",
    "keep_prob_dropout = tf.placeholder(tf.float32)"
   ]
  },
  {
   "cell_type": "code",
   "execution_count": 56,
   "metadata": {},
   "outputs": [],
   "source": [
    "#HYPER-PARAMETERS\n",
    "LEARNING_RATE = 0.001\n",
    "EPOCHS = 60\n",
    "BATCH_SIZE = 128"
   ]
  },
  {
   "cell_type": "code",
   "execution_count": 57,
   "metadata": {},
   "outputs": [],
   "source": [
    "logits = LeNet5(x, keep_prob_dropout)\n",
    "loss = tf.reduce_mean(tf.nn.softmax_cross_entropy_with_logits(labels=one_hot_y, logits=logits))\n",
    "training_operation = tf.train.AdamOptimizer(learning_rate=LEARNING_RATE).minimize(loss)"
   ]
  },
  {
   "cell_type": "code",
   "execution_count": 58,
   "metadata": {},
   "outputs": [],
   "source": [
    "correct_prediction = tf.equal(tf.argmax(logits,1), tf.argmax(one_hot_y,1))\n",
    "accuracy_operation = tf.reduce_sum(tf.cast(correct_prediction, tf.float32))\n",
    "\n",
    "def evaluate(X_data, y_data):\n",
    "    num_examples = len(X_data)\n",
    "    total_accuracy = 0\n",
    "    session = tf.get_default_session()\n",
    "    for offset in range(0, num_examples, BATCH_SIZE):\n",
    "        batch_x, batch_y = X_data[offset:offset+BATCH_SIZE], y_data[offset:offset+BATCH_SIZE]\n",
    "        accuracy = session.run(accuracy_operation, feed_dict={x:batch_x, y:batch_y, keep_prob_dropout:1.0})\n",
    "        total_accuracy += accuracy\n",
    "    \n",
    "    return total_accuracy/num_examples"
   ]
  },
  {
   "cell_type": "code",
   "execution_count": 59,
   "metadata": {},
   "outputs": [
    {
     "name": "stdout",
     "output_type": "stream",
     "text": [
      "Training the Model....\n",
      "EPOCH 1 ...\n",
      "Training Accuracy = 0.551\n",
      "Validation Accuracy = 0.516\n",
      "\n",
      "EPOCH 2 ...\n",
      "Training Accuracy = 0.818\n",
      "Validation Accuracy = 0.753\n",
      "\n",
      "EPOCH 3 ...\n",
      "Training Accuracy = 0.890\n",
      "Validation Accuracy = 0.832\n",
      "\n",
      "EPOCH 4 ...\n",
      "Training Accuracy = 0.920\n",
      "Validation Accuracy = 0.879\n",
      "\n",
      "EPOCH 5 ...\n",
      "Training Accuracy = 0.939\n",
      "Validation Accuracy = 0.888\n",
      "\n",
      "EPOCH 6 ...\n",
      "Training Accuracy = 0.956\n",
      "Validation Accuracy = 0.910\n",
      "\n",
      "EPOCH 7 ...\n",
      "Training Accuracy = 0.965\n",
      "Validation Accuracy = 0.918\n",
      "\n",
      "EPOCH 8 ...\n",
      "Training Accuracy = 0.972\n",
      "Validation Accuracy = 0.919\n",
      "\n",
      "EPOCH 9 ...\n",
      "Training Accuracy = 0.976\n",
      "Validation Accuracy = 0.936\n",
      "\n",
      "EPOCH 10 ...\n",
      "Training Accuracy = 0.981\n",
      "Validation Accuracy = 0.932\n",
      "\n",
      "EPOCH 11 ...\n",
      "Training Accuracy = 0.985\n",
      "Validation Accuracy = 0.940\n",
      "\n",
      "EPOCH 12 ...\n",
      "Training Accuracy = 0.987\n",
      "Validation Accuracy = 0.945\n",
      "\n",
      "EPOCH 13 ...\n",
      "Training Accuracy = 0.987\n",
      "Validation Accuracy = 0.946\n",
      "\n",
      "EPOCH 14 ...\n",
      "Training Accuracy = 0.989\n",
      "Validation Accuracy = 0.948\n",
      "\n",
      "EPOCH 15 ...\n",
      "Training Accuracy = 0.989\n",
      "Validation Accuracy = 0.950\n",
      "\n",
      "EPOCH 16 ...\n",
      "Training Accuracy = 0.991\n",
      "Validation Accuracy = 0.954\n",
      "\n",
      "EPOCH 17 ...\n",
      "Training Accuracy = 0.992\n",
      "Validation Accuracy = 0.956\n",
      "\n",
      "EPOCH 18 ...\n",
      "Training Accuracy = 0.993\n",
      "Validation Accuracy = 0.961\n",
      "\n",
      "EPOCH 19 ...\n",
      "Training Accuracy = 0.993\n",
      "Validation Accuracy = 0.955\n",
      "\n",
      "EPOCH 20 ...\n",
      "Training Accuracy = 0.994\n",
      "Validation Accuracy = 0.960\n",
      "\n",
      "EPOCH 21 ...\n",
      "Training Accuracy = 0.994\n",
      "Validation Accuracy = 0.955\n",
      "\n",
      "EPOCH 22 ...\n",
      "Training Accuracy = 0.995\n",
      "Validation Accuracy = 0.959\n",
      "\n",
      "EPOCH 23 ...\n",
      "Training Accuracy = 0.995\n",
      "Validation Accuracy = 0.960\n",
      "\n",
      "EPOCH 24 ...\n",
      "Training Accuracy = 0.996\n",
      "Validation Accuracy = 0.961\n",
      "\n",
      "EPOCH 25 ...\n",
      "Training Accuracy = 0.996\n",
      "Validation Accuracy = 0.963\n",
      "\n",
      "EPOCH 26 ...\n",
      "Training Accuracy = 0.996\n",
      "Validation Accuracy = 0.958\n",
      "\n",
      "EPOCH 27 ...\n",
      "Training Accuracy = 0.997\n",
      "Validation Accuracy = 0.964\n",
      "\n",
      "EPOCH 28 ...\n",
      "Training Accuracy = 0.996\n",
      "Validation Accuracy = 0.957\n",
      "\n",
      "EPOCH 29 ...\n",
      "Training Accuracy = 0.997\n",
      "Validation Accuracy = 0.962\n",
      "\n",
      "EPOCH 30 ...\n",
      "Training Accuracy = 0.997\n",
      "Validation Accuracy = 0.964\n",
      "\n",
      "EPOCH 31 ...\n",
      "Training Accuracy = 0.997\n",
      "Validation Accuracy = 0.961\n",
      "\n",
      "EPOCH 32 ...\n",
      "Training Accuracy = 0.998\n",
      "Validation Accuracy = 0.965\n",
      "\n",
      "EPOCH 33 ...\n",
      "Training Accuracy = 0.997\n",
      "Validation Accuracy = 0.970\n",
      "\n",
      "EPOCH 34 ...\n",
      "Training Accuracy = 0.997\n",
      "Validation Accuracy = 0.966\n",
      "\n",
      "EPOCH 35 ...\n",
      "Training Accuracy = 0.997\n",
      "Validation Accuracy = 0.959\n",
      "\n",
      "EPOCH 36 ...\n",
      "Training Accuracy = 0.997\n",
      "Validation Accuracy = 0.961\n",
      "\n",
      "EPOCH 37 ...\n",
      "Training Accuracy = 0.997\n",
      "Validation Accuracy = 0.963\n",
      "\n",
      "EPOCH 38 ...\n",
      "Training Accuracy = 0.998\n",
      "Validation Accuracy = 0.965\n",
      "\n",
      "EPOCH 39 ...\n",
      "Training Accuracy = 0.998\n",
      "Validation Accuracy = 0.966\n",
      "\n",
      "EPOCH 40 ...\n",
      "Training Accuracy = 0.998\n",
      "Validation Accuracy = 0.967\n",
      "\n",
      "EPOCH 41 ...\n",
      "Training Accuracy = 0.998\n",
      "Validation Accuracy = 0.966\n",
      "\n",
      "EPOCH 42 ...\n",
      "Training Accuracy = 0.999\n",
      "Validation Accuracy = 0.967\n",
      "\n",
      "EPOCH 43 ...\n",
      "Training Accuracy = 0.998\n",
      "Validation Accuracy = 0.965\n",
      "\n",
      "EPOCH 44 ...\n",
      "Training Accuracy = 0.998\n",
      "Validation Accuracy = 0.964\n",
      "\n",
      "EPOCH 45 ...\n",
      "Training Accuracy = 0.999\n",
      "Validation Accuracy = 0.967\n",
      "\n",
      "EPOCH 46 ...\n",
      "Training Accuracy = 0.999\n",
      "Validation Accuracy = 0.960\n",
      "\n",
      "EPOCH 47 ...\n",
      "Training Accuracy = 0.998\n",
      "Validation Accuracy = 0.965\n",
      "\n",
      "EPOCH 48 ...\n",
      "Training Accuracy = 0.999\n",
      "Validation Accuracy = 0.969\n",
      "\n",
      "EPOCH 49 ...\n",
      "Training Accuracy = 0.999\n",
      "Validation Accuracy = 0.966\n",
      "\n",
      "EPOCH 50 ...\n",
      "Training Accuracy = 0.999\n",
      "Validation Accuracy = 0.968\n",
      "\n",
      "EPOCH 51 ...\n",
      "Training Accuracy = 0.999\n",
      "Validation Accuracy = 0.969\n",
      "\n",
      "EPOCH 52 ...\n",
      "Training Accuracy = 0.999\n",
      "Validation Accuracy = 0.968\n",
      "\n",
      "EPOCH 53 ...\n",
      "Training Accuracy = 0.999\n",
      "Validation Accuracy = 0.968\n",
      "\n",
      "EPOCH 54 ...\n",
      "Training Accuracy = 0.999\n",
      "Validation Accuracy = 0.961\n",
      "\n",
      "EPOCH 55 ...\n",
      "Training Accuracy = 0.999\n",
      "Validation Accuracy = 0.966\n",
      "\n",
      "EPOCH 56 ...\n",
      "Training Accuracy = 0.999\n",
      "Validation Accuracy = 0.962\n",
      "\n",
      "EPOCH 57 ...\n",
      "Training Accuracy = 0.999\n",
      "Validation Accuracy = 0.965\n",
      "\n",
      "EPOCH 58 ...\n",
      "Training Accuracy = 0.999\n",
      "Validation Accuracy = 0.967\n",
      "\n",
      "EPOCH 59 ...\n",
      "Training Accuracy = 0.999\n",
      "Validation Accuracy = 0.965\n",
      "\n",
      "EPOCH 60 ...\n",
      "Training Accuracy = 0.999\n",
      "Validation Accuracy = 0.962\n",
      "\n",
      "LeNet Model Saved\n"
     ]
    }
   ],
   "source": [
    "from sklearn.utils import shuffle\n",
    "\n",
    "saver = tf.train.Saver()\n",
    "\n",
    "with tf.Session() as session:\n",
    "    session.run(tf.global_variables_initializer())\n",
    "    \n",
    "    num_examples = len(X_train)\n",
    "    print(\"Training the Model....\")\n",
    "    for i in range(EPOCHS):\n",
    "        X_train, y_train = shuffle(X_train, y_train)\n",
    "        for offset in range(0,num_examples, BATCH_SIZE):\n",
    "            end = offset + BATCH_SIZE\n",
    "            batch_x, batch_y = X_train[offset:offset+BATCH_SIZE], y_train[offset:offset+BATCH_SIZE]\n",
    "            session.run(training_operation, feed_dict={x:batch_x, y:batch_y, keep_prob_dropout:0.5})\n",
    "        \n",
    "        training_accuracy = evaluate(X_train, y_train)\n",
    "        validation_accuracy = evaluate(X_valid, y_valid)\n",
    "        print(\"EPOCH {} ...\".format(i+1))\n",
    "        print(\"Training Accuracy = {:.3f}\".format(training_accuracy))\n",
    "        print(\"Validation Accuracy = {:.3f}\".format(validation_accuracy))\n",
    "        print()\n",
    "    \n",
    "    saver.save(session, \"./LeNet5\")\n",
    "    print(\"LeNet Model Saved\")\n",
    "    "
   ]
  },
  {
   "cell_type": "code",
   "execution_count": 60,
   "metadata": {},
   "outputs": [
    {
     "name": "stdout",
     "output_type": "stream",
     "text": [
      "INFO:tensorflow:Restoring parameters from .\\LeNet5\n",
      "Test Accuracy = 0.944\n"
     ]
    }
   ],
   "source": [
    "with tf.Session() as sess:\n",
    "    saver.restore(sess, tf.train.latest_checkpoint('.'))\n",
    "\n",
    "    test_accuracy = evaluate(X_test, y_test)\n",
    "    print(\"Test Accuracy = {:.3f}\".format(test_accuracy))"
   ]
  },
  {
   "cell_type": "markdown",
   "metadata": {},
   "source": [
    "---\n",
    "\n",
    "## Step 3: Test a Model on New Images\n",
    "\n",
    "To give yourself more insight into how your model is working, download at least five pictures of German traffic signs from the web and use your model to predict the traffic sign type.\n",
    "\n",
    "You may find `signnames.csv` useful as it contains mappings from the class id (integer) to the actual sign name."
   ]
  },
  {
   "cell_type": "markdown",
   "metadata": {},
   "source": [
    "### Load and Output the Images"
   ]
  },
  {
   "cell_type": "code",
   "execution_count": 97,
   "metadata": {},
   "outputs": [],
   "source": [
    "predicted = tf.argmax(logits,1)\n",
    "actual = tf.argmax(one_hot_y,1)\n",
    "def evaluate_smalldata(X_data, y_data):\n",
    "    session = tf.get_default_session()\n",
    "    predictedClassId = session.run(predicted, feed_dict={x:X_data, y:y_data, keep_prob_dropout:1.})\n",
    "    for i, pred in enumerate(predictedClassId):\n",
    "        print(\"Predicted: \" + classIdToSignDefinition(pred))\n",
    "        print(\"Actual: \" + classIdToSignDefinition(y_data[i]))\n",
    "        print()"
   ]
  },
  {
   "cell_type": "code",
   "execution_count": 79,
   "metadata": {},
   "outputs": [],
   "source": [
    "### Load the images and plot them here.\n",
    "### Feel free to use as many code cells as needed.\n",
    "import os\n",
    "from PIL import Image\n",
    "\n",
    "files = os.listdir(\"./webGermanTrafficImages/downloaded\")\n",
    "for file in files:\n",
    "    image = Image.open(\"./webGermanTrafficImages/downloaded/\"+file)\n",
    "    img = image.resize((32, 32), Image.ANTIALIAS)\n",
    "    img.save(\"./webGermanTrafficImages/resized/\"+file.replace(\"test_\", \"resized_\"))"
   ]
  },
  {
   "cell_type": "code",
   "execution_count": 83,
   "metadata": {},
   "outputs": [
    {
     "name": "stdout",
     "output_type": "stream",
     "text": [
      "(5, 32, 32, 1)\n",
      "(5,)\n"
     ]
    }
   ],
   "source": [
    "import matplotlib.image as mpimg\n",
    "\n",
    "files = os.listdir(\"./webGermanTrafficImages/resized\")\n",
    "X = []\n",
    "for file in files:\n",
    "    image = mpimg.imread(\"./webGermanTrafficImages/resized/\"+file)\n",
    "    X.append(normalizeImage(image))\n",
    "\n",
    "X = np.asarray(X)\n",
    "print(X.shape)\n",
    "Y = np.asarray([31, 12, 30, 40, 14])\n",
    "print(Y.shape)\n",
    "    "
   ]
  },
  {
   "cell_type": "markdown",
   "metadata": {},
   "source": [
    "### Predict the Sign Type for Each Image"
   ]
  },
  {
   "cell_type": "code",
   "execution_count": 98,
   "metadata": {},
   "outputs": [
    {
     "name": "stdout",
     "output_type": "stream",
     "text": [
      "INFO:tensorflow:Restoring parameters from .\\LeNet5\n",
      "Predicted: Right-of-way at the next intersection\n",
      "Actual: Wild animals crossing\n",
      "\n",
      "Predicted: Roundabout mandatory\n",
      "Actual: Priority road\n",
      "\n",
      "Predicted: Road work\n",
      "Actual: Beware of ice/snow\n",
      "\n",
      "Predicted: Roundabout mandatory\n",
      "Actual: Roundabout mandatory\n",
      "\n",
      "Predicted: Stop\n",
      "Actual: Stop\n",
      "\n"
     ]
    }
   ],
   "source": [
    "### Run the predictions here and use the model to output the prediction for each image.\n",
    "### Make sure to pre-process the images with the same pre-processing pipeline used earlier.\n",
    "### Feel free to use as many code cells as needed.\n",
    "\n",
    "with tf.Session() as sess:\n",
    "    saver.restore(sess, tf.train.latest_checkpoint('.'))\n",
    "\n",
    "    evaluate_smalldata(X, Y)"
   ]
  },
  {
   "cell_type": "markdown",
   "metadata": {},
   "source": [
    "### Analyze Performance"
   ]
  },
  {
   "cell_type": "code",
   "execution_count": 99,
   "metadata": {},
   "outputs": [
    {
     "name": "stdout",
     "output_type": "stream",
     "text": [
      "INFO:tensorflow:Restoring parameters from .\\LeNet5\n",
      "Test Accuracy = 0.400\n"
     ]
    }
   ],
   "source": [
    "### Calculate the accuracy for these 5 new images. \n",
    "### For example, if the model predicted 1 out of 5 signs correctly, it's 20% accurate on these new images.\n",
    "with tf.Session() as sess:\n",
    "    saver.restore(sess, tf.train.latest_checkpoint('.'))\n",
    "\n",
    "    test_accuracy = evaluate(X, Y)\n",
    "    print(\"Test Accuracy = {:.3f}\".format(test_accuracy))"
   ]
  },
  {
   "cell_type": "markdown",
   "metadata": {},
   "source": [
    "### Output Top 5 Softmax Probabilities For Each Image Found on the Web"
   ]
  },
  {
   "cell_type": "markdown",
   "metadata": {},
   "source": [
    "For each of the new images, print out the model's softmax probabilities to show the **certainty** of the model's predictions (limit the output to the top 5 probabilities for each image). [`tf.nn.top_k`](https://www.tensorflow.org/versions/r0.12/api_docs/python/nn.html#top_k) could prove helpful here. \n",
    "\n",
    "The example below demonstrates how tf.nn.top_k can be used to find the top k predictions for each image.\n",
    "\n",
    "`tf.nn.top_k` will return the values and indices (class ids) of the top k predictions. So if k=3, for each sign, it'll return the 3 largest probabilities (out of a possible 43) and the correspoding class ids.\n",
    "\n",
    "Take this numpy array as an example. The values in the array represent predictions. The array contains softmax probabilities for five candidate images with six possible classes. `tf.nn.top_k` is used to choose the three classes with the highest probability:\n",
    "\n",
    "```\n",
    "# (5, 6) array\n",
    "a = np.array([[ 0.24879643,  0.07032244,  0.12641572,  0.34763842,  0.07893497,\n",
    "         0.12789202],\n",
    "       [ 0.28086119,  0.27569815,  0.08594638,  0.0178669 ,  0.18063401,\n",
    "         0.15899337],\n",
    "       [ 0.26076848,  0.23664738,  0.08020603,  0.07001922,  0.1134371 ,\n",
    "         0.23892179],\n",
    "       [ 0.11943333,  0.29198961,  0.02605103,  0.26234032,  0.1351348 ,\n",
    "         0.16505091],\n",
    "       [ 0.09561176,  0.34396535,  0.0643941 ,  0.16240774,  0.24206137,\n",
    "         0.09155967]])\n",
    "```\n",
    "\n",
    "Running it through `sess.run(tf.nn.top_k(tf.constant(a), k=3))` produces:\n",
    "\n",
    "```\n",
    "TopKV2(values=array([[ 0.34763842,  0.24879643,  0.12789202],\n",
    "       [ 0.28086119,  0.27569815,  0.18063401],\n",
    "       [ 0.26076848,  0.23892179,  0.23664738],\n",
    "       [ 0.29198961,  0.26234032,  0.16505091],\n",
    "       [ 0.34396535,  0.24206137,  0.16240774]]), indices=array([[3, 0, 5],\n",
    "       [0, 1, 4],\n",
    "       [0, 5, 1],\n",
    "       [1, 3, 5],\n",
    "       [1, 4, 3]], dtype=int32))\n",
    "```\n",
    "\n",
    "Looking just at the first row we get `[ 0.34763842,  0.24879643,  0.12789202]`, you can confirm these are the 3 largest probabilities in `a`. You'll also notice `[3, 0, 5]` are the corresponding indices."
   ]
  },
  {
   "cell_type": "code",
   "execution_count": 104,
   "metadata": {},
   "outputs": [],
   "source": [
    "\n",
    "def getLogits(X_data, y_data):\n",
    "    session = tf.get_default_session()\n",
    "    return session.run(logits, feed_dict={x:X_data, y:y_data, keep_prob_dropout:1.})"
   ]
  },
  {
   "cell_type": "code",
   "execution_count": 105,
   "metadata": {},
   "outputs": [
    {
     "name": "stdout",
     "output_type": "stream",
     "text": [
      "INFO:tensorflow:Restoring parameters from .\\LeNet5\n",
      "TopKV2(values=array([[ 10.714818  ,  10.05907536,   4.71374273,   1.4957453 ,\n",
      "          0.98967218],\n",
      "       [  3.05951309,   1.8532455 ,   1.58011663,   1.2660203 ,\n",
      "         -0.83070433],\n",
      "       [ 22.78848839,  -3.86351347,  -4.22732449,  -4.88344336,\n",
      "         -5.21851254],\n",
      "       [  9.13676357,   6.29244852,   1.91603625,   1.08729362,\n",
      "          0.19601977],\n",
      "       [ 17.62558937,   4.36213398,   1.6781671 ,   0.85954648,\n",
      "         -4.01733494]], dtype=float32), indices=array([[11, 12, 20, 41, 40],\n",
      "       [40,  1,  0, 17, 28],\n",
      "       [25, 24, 29, 18, 22],\n",
      "       [40,  7, 12,  1,  2],\n",
      "       [14, 38,  4, 36,  1]]))\n"
     ]
    }
   ],
   "source": [
    "### Print out the top five softmax probabilities for the predictions on the German traffic sign images found on the web. \n",
    "### Feel free to use as many code cells as needed.\n",
    "with tf.Session() as sess:\n",
    "    saver.restore(sess, tf.train.latest_checkpoint('.'))\n",
    "    print(sess.run(tf.nn.top_k(tf.constant(getLogits(X, Y)), k = 5)))\n"
   ]
  },
  {
   "cell_type": "markdown",
   "metadata": {},
   "source": [
    "### Project Writeup\n",
    "\n",
    "Once you have completed the code implementation, document your results in a project writeup using this [template](https://github.com/udacity/CarND-Traffic-Sign-Classifier-Project/blob/master/writeup_template.md) as a guide. The writeup can be in a markdown or pdf file. "
   ]
  },
  {
   "cell_type": "markdown",
   "metadata": {},
   "source": [
    "> **Note**: Once you have completed all of the code implementations and successfully answered each question above, you may finalize your work by exporting the iPython Notebook as an HTML document. You can do this by using the menu above and navigating to  \\n\",\n",
    "    \"**File -> Download as -> HTML (.html)**. Include the finished document along with this notebook as your submission."
   ]
  },
  {
   "cell_type": "markdown",
   "metadata": {},
   "source": [
    "---\n",
    "\n",
    "## Step 4 (Optional): Visualize the Neural Network's State with Test Images\n",
    "\n",
    " This Section is not required to complete but acts as an additional excersise for understaning the output of a neural network's weights. While neural networks can be a great learning device they are often referred to as a black box. We can understand what the weights of a neural network look like better by plotting their feature maps. After successfully training your neural network you can see what it's feature maps look like by plotting the output of the network's weight layers in response to a test stimuli image. From these plotted feature maps, it's possible to see what characteristics of an image the network finds interesting. For a sign, maybe the inner network feature maps react with high activation to the sign's boundary outline or to the contrast in the sign's painted symbol.\n",
    "\n",
    " Provided for you below is the function code that allows you to get the visualization output of any tensorflow weight layer you want. The inputs to the function should be a stimuli image, one used during training or a new one you provided, and then the tensorflow variable name that represents the layer's state during the training process, for instance if you wanted to see what the [LeNet lab's](https://classroom.udacity.com/nanodegrees/nd013/parts/fbf77062-5703-404e-b60c-95b78b2f3f9e/modules/6df7ae49-c61c-4bb2-a23e-6527e69209ec/lessons/601ae704-1035-4287-8b11-e2c2716217ad/concepts/d4aca031-508f-4e0b-b493-e7b706120f81) feature maps looked like for it's second convolutional layer you could enter conv2 as the tf_activation variable.\n",
    "\n",
    "For an example of what feature map outputs look like, check out NVIDIA's results in their paper [End-to-End Deep Learning for Self-Driving Cars](https://devblogs.nvidia.com/parallelforall/deep-learning-self-driving-cars/) in the section Visualization of internal CNN State. NVIDIA was able to show that their network's inner weights had high activations to road boundary lines by comparing feature maps from an image with a clear path to one without. Try experimenting with a similar test to show that your trained network's weights are looking for interesting features, whether it's looking at differences in feature maps from images with or without a sign, or even what feature maps look like in a trained network vs a completely untrained one on the same sign image.\n",
    "\n",
    "<figure>\n",
    " <img src=\"visualize_cnn.png\" width=\"380\" alt=\"Combined Image\" />\n",
    " <figcaption>\n",
    " <p></p> \n",
    " <p style=\"text-align: center;\"> Your output should look something like this (above)</p> \n",
    " </figcaption>\n",
    "</figure>\n",
    " <p></p> \n"
   ]
  },
  {
   "cell_type": "code",
   "execution_count": null,
   "metadata": {
    "collapsed": true
   },
   "outputs": [],
   "source": [
    "### Visualize your network's feature maps here.\n",
    "### Feel free to use as many code cells as needed.\n",
    "\n",
    "# image_input: the test image being fed into the network to produce the feature maps\n",
    "# tf_activation: should be a tf variable name used during your training procedure that represents the calculated state of a specific weight layer\n",
    "# activation_min/max: can be used to view the activation contrast in more detail, by default matplot sets min and max to the actual min and max values of the output\n",
    "# plt_num: used to plot out multiple different weight feature map sets on the same block, just extend the plt number for each new feature map entry\n",
    "\n",
    "def outputFeatureMap(image_input, tf_activation, activation_min=-1, activation_max=-1 ,plt_num=1):\n",
    "    # Here make sure to preprocess your image_input in a way your network expects\n",
    "    # with size, normalization, ect if needed\n",
    "    # image_input =\n",
    "    # Note: x should be the same name as your network's tensorflow data placeholder variable\n",
    "    # If you get an error tf_activation is not defined it may be having trouble accessing the variable from inside a function\n",
    "    activation = tf_activation.eval(session=sess,feed_dict={x : image_input})\n",
    "    featuremaps = activation.shape[3]\n",
    "    plt.figure(plt_num, figsize=(15,15))\n",
    "    for featuremap in range(featuremaps):\n",
    "        plt.subplot(6,8, featuremap+1) # sets the number of feature maps to show on each row and column\n",
    "        plt.title('FeatureMap ' + str(featuremap)) # displays the feature map number\n",
    "        if activation_min != -1 & activation_max != -1:\n",
    "            plt.imshow(activation[0,:,:, featuremap], interpolation=\"nearest\", vmin =activation_min, vmax=activation_max, cmap=\"gray\")\n",
    "        elif activation_max != -1:\n",
    "            plt.imshow(activation[0,:,:, featuremap], interpolation=\"nearest\", vmax=activation_max, cmap=\"gray\")\n",
    "        elif activation_min !=-1:\n",
    "            plt.imshow(activation[0,:,:, featuremap], interpolation=\"nearest\", vmin=activation_min, cmap=\"gray\")\n",
    "        else:\n",
    "            plt.imshow(activation[0,:,:, featuremap], interpolation=\"nearest\", cmap=\"gray\")"
   ]
  }
 ],
 "metadata": {
  "anaconda-cloud": {},
  "kernelspec": {
   "display_name": "Python 3",
   "language": "python",
   "name": "python3"
  },
  "language_info": {
   "codemirror_mode": {
    "name": "ipython",
    "version": 3
   },
   "file_extension": ".py",
   "mimetype": "text/x-python",
   "name": "python",
   "nbconvert_exporter": "python",
   "pygments_lexer": "ipython3",
   "version": "3.6.2"
  }
 },
 "nbformat": 4,
 "nbformat_minor": 1
}
